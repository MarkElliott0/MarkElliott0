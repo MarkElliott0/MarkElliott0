{
  "nbformat": 4,
  "nbformat_minor": 0,
  "metadata": {
    "colab": {
      "name": "Updated_Covid_API.ipynb",
      "provenance": [],
      "collapsed_sections": [],
      "authorship_tag": "ABX9TyPPsIDFJnQZ7cHcyWLhcixl",
      "include_colab_link": true
    },
    "kernelspec": {
      "name": "python3",
      "display_name": "Python 3"
    },
    "language_info": {
      "name": "python"
    }
  },
  "cells": [
    {
      "cell_type": "markdown",
      "metadata": {
        "id": "view-in-github",
        "colab_type": "text"
      },
      "source": [
        "<a href=\"https://colab.research.google.com/github/MarkElliott0/MarkElliott0/blob/master/Updated_Covid_API.ipynb\" target=\"_parent\"><img src=\"https://colab.research.google.com/assets/colab-badge.svg\" alt=\"Open In Colab\"/></a>"
      ]
    },
    {
      "cell_type": "code",
      "metadata": {
        "colab": {
          "base_uri": "https://localhost:8080/"
        },
        "id": "BoedRM0cRB2Q",
        "outputId": "9115b19e-b6b7-4406-aff7-7cfabbade036"
      },
      "source": [
        "## Data from https://coronavirus.data.gov.uk/\n",
        "!pip install uk-covid19"
      ],
      "execution_count": null,
      "outputs": [
        {
          "output_type": "stream",
          "name": "stdout",
          "text": [
            "Collecting uk-covid19\n",
            "  Downloading uk_covid19-1.2.2-py3-none-any.whl (10 kB)\n",
            "Requirement already satisfied: requests in /usr/local/lib/python3.7/dist-packages (from uk-covid19) (2.23.0)\n",
            "Requirement already satisfied: certifi in /usr/local/lib/python3.7/dist-packages (from uk-covid19) (2021.5.30)\n",
            "Requirement already satisfied: chardet<4,>=3.0.2 in /usr/local/lib/python3.7/dist-packages (from requests->uk-covid19) (3.0.4)\n",
            "Requirement already satisfied: urllib3!=1.25.0,!=1.25.1,<1.26,>=1.21.1 in /usr/local/lib/python3.7/dist-packages (from requests->uk-covid19) (1.24.3)\n",
            "Requirement already satisfied: idna<3,>=2.5 in /usr/local/lib/python3.7/dist-packages (from requests->uk-covid19) (2.10)\n",
            "Installing collected packages: uk-covid19\n",
            "Successfully installed uk-covid19-1.2.2\n"
          ]
        }
      ]
    },
    {
      "cell_type": "code",
      "metadata": {
        "colab": {
          "base_uri": "https://localhost:8080/"
        },
        "id": "JUdPmMMDRI8m",
        "outputId": "1700c280-8df8-4271-8e32-4a69a8717b51"
      },
      "source": [
        "##Region Data\n",
        "from uk_covid19 import Cov19API\n",
        "def main():\n",
        "\n",
        "  try:\n",
        "    area_type = 'region'\n",
        "    \n",
        "    location_filter = [f'areaType={area_type}'\n",
        "    ]\n",
        "\n",
        "    req_structure = {\n",
        "    \"Area name\":\"areaName\",\n",
        "    \"Area code\":\"areaCode\", \n",
        "    \"Area type\":\"areaType\", \n",
        "    \"Specimen date\":\"date\", \n",
        "    \"Daily lab-confirmed cases\":\"newCasesBySpecimenDate\", \n",
        "    \"Cumulative lab-confirmed cases\":\"cumCasesBySpecimenDate\", \n",
        "    \"Cumulative lab-confirmed cases rate\":\"cumCasesBySpecimenDateRate\"\n",
        "    }\n",
        "\n",
        "    api = Cov19API(filters=location_filter, structure=req_structure)\n",
        "    data = api.get_dataframe()\n",
        "    data.to_csv('region_covid_data.csv', index=False)\n",
        "    print(data)\n",
        "  except Exception as ex: \n",
        "    print(f'Exception [{ex}]')\n",
        "if __name__ == \"__main__\":\n",
        "  main()"
      ],
      "execution_count": null,
      "outputs": [
        {
          "output_type": "stream",
          "name": "stdout",
          "text": [
            "       Area name  ... Cumulative lab-confirmed cases rate\n",
            "0     North East  ...                             13831.2\n",
            "1     North East  ...                             13819.6\n",
            "2     North East  ...                             13783.4\n",
            "3     North East  ...                             13742.2\n",
            "4     North East  ...                             13689.7\n",
            "...          ...  ...                                 ...\n",
            "5263  South West  ...                                 0.1\n",
            "5264  South West  ...                                 NaN\n",
            "5265  South West  ...                                 NaN\n",
            "5266  South West  ...                                 NaN\n",
            "5267  South West  ...                                 NaN\n",
            "\n",
            "[5268 rows x 7 columns]\n"
          ]
        }
      ]
    },
    {
      "cell_type": "code",
      "metadata": {
        "colab": {
          "base_uri": "https://localhost:8080/"
        },
        "id": "gUNLcvjbZo78",
        "outputId": "53221741-9a3f-46f6-8381-364368f1af34"
      },
      "source": [
        "##National Data\n",
        "from uk_covid19 import Cov19API\n",
        "def main():\n",
        "\n",
        "  try:\n",
        "    area_type = 'nation'\n",
        "    \n",
        "    location_filter = [f'areaType={area_type}'\n",
        "    ]\n",
        "\n",
        "    req_structure = {\n",
        "    \"Area name\":\"areaName\",\n",
        "    \"Area code\":\"areaCode\", \n",
        "    \"Area type\":\"areaType\", \n",
        "    \"Specimen date\":\"date\", \n",
        "    \"Daily lab-confirmed cases\":\"newCasesBySpecimenDate\", \n",
        "    \"Cumulative lab-confirmed cases\":\"cumCasesBySpecimenDate\", \n",
        "    \"Cumulative lab-confirmed cases rate\":\"cumCasesBySpecimenDateRate\"\n",
        "    }\n",
        "\n",
        "    api = Cov19API(filters=location_filter, structure=req_structure)\n",
        "    data = api.get_dataframe()\n",
        "    data.to_csv('nation_covid_data.csv', index=False)\n",
        "    print(data)\n",
        "  except Exception as ex: \n",
        "    print(f'Exception [{ex}]')\n",
        "if __name__ == \"__main__\":\n",
        "  main()"
      ],
      "execution_count": null,
      "outputs": [
        {
          "output_type": "stream",
          "name": "stdout",
          "text": [
            "     Area name  ... Cumulative lab-confirmed cases rate\n",
            "0      England  ...                             11603.3\n",
            "1      England  ...                             11587.0\n",
            "2      England  ...                             11552.8\n",
            "3      England  ...                             11512.0\n",
            "4      England  ...                             11464.2\n",
            "...        ...  ...                                 ...\n",
            "2327     Wales  ...                                 NaN\n",
            "2328     Wales  ...                                 NaN\n",
            "2329     Wales  ...                                 NaN\n",
            "2330     Wales  ...                                 NaN\n",
            "2331     Wales  ...                                 NaN\n",
            "\n",
            "[2332 rows x 7 columns]\n"
          ]
        }
      ]
    },
    {
      "cell_type": "code",
      "metadata": {
        "colab": {
          "base_uri": "https://localhost:8080/"
        },
        "id": "bFjuobGxUHfg",
        "outputId": "221e8767-4331-496d-b00e-e3f4748fe383"
      },
      "source": [
        "##utla Data\n",
        "from uk_covid19 import Cov19API\n",
        "def main():\n",
        "\n",
        "  try:\n",
        "    area_type = 'utla'\n",
        "    \n",
        "    location_filter = [f'areaType={area_type}'\n",
        "    ]\n",
        "\n",
        "    req_structure = {\n",
        "    \"Area name\":\"areaName\",\n",
        "    \"Area code\":\"areaCode\", \n",
        "    \"Area type\":\"areaType\", \n",
        "    \"Specimen date\":\"date\", \n",
        "    \"Daily lab-confirmed cases\":\"newCasesBySpecimenDate\", \n",
        "    \"Cumulative lab-confirmed cases\":\"cumCasesBySpecimenDate\" \n",
        "    ##\"Cumulative lab-confirmed cases rate\":\"cumCasesBySpecimenDateRate\" increases number of rows\n",
        "    }\n",
        "\n",
        "    api = Cov19API(filters=location_filter, structure=req_structure)\n",
        "    data = api.get_dataframe()\n",
        "    data.to_csv('utla_covid_data.csv', index=False)\n",
        "    print(data)\n",
        "  except Exception as ex: \n",
        "    print(f'Exception [{ex}]')\n",
        "if __name__ == \"__main__\":\n",
        "  main()"
      ],
      "execution_count": null,
      "outputs": [
        {
          "output_type": "stream",
          "name": "stdout",
          "text": [
            "             Area name  ... Cumulative lab-confirmed cases rate\n",
            "0           Hartlepool  ...                             16208.1\n",
            "1           Hartlepool  ...                             16200.6\n",
            "2           Hartlepool  ...                             16177.2\n",
            "3           Hartlepool  ...                             16155.8\n",
            "4           Hartlepool  ...                             16112.2\n",
            "...                ...  ...                                 ...\n",
            "122041  Merthyr Tydfil  ...                                 5.0\n",
            "122042  Merthyr Tydfil  ...                                 5.0\n",
            "122043  Merthyr Tydfil  ...                                 3.3\n",
            "122044  Merthyr Tydfil  ...                                 3.3\n",
            "122045  Merthyr Tydfil  ...                                 3.3\n",
            "\n",
            "[122046 rows x 7 columns]\n"
          ]
        }
      ]
    },
    {
      "cell_type": "code",
      "metadata": {
        "id": "CP6HNnW4Su37",
        "colab": {
          "base_uri": "https://localhost:8080/"
        },
        "outputId": "6bc50bf5-70e6-4e26-925d-2b2606afddf5"
      },
      "source": [
        "#ltla data\n",
        "from uk_covid19 import Cov19API\n",
        "def main():\n",
        "\n",
        "  try:\n",
        "    area_type = 'ltla'\n",
        "\n",
        "    location_filter = [f'areaType={area_type}'\n",
        "    ]\n",
        "\n",
        "    req_structure = {\n",
        "    \"Area name\":\"areaName\",\n",
        "    \"Area code\":\"areaCode\", \n",
        "    \"Area type\":\"areaType\", \n",
        "    \"Specimen date\":\"date\", \n",
        "    \"Daily lab-confirmed cases\":\"newCasesBySpecimenDate\", \n",
        "    \"Cumulative lab-confirmed cases\":\"cumCasesBySpecimenDate\" \n",
        "    ##\"Cumulative lab-confirmed cases rate\":\"cumCasesBySpecimenDateRate\" - increases number of rows\n",
        "    }\n",
        "\n",
        "\n",
        "    api = Cov19API(filters=location_filter, structure=req_structure)\n",
        "    data = api.get_dataframe()\n",
        "    data.to_csv('ltla_covid_data.csv', index=False)\n",
        "    print(data)\n",
        "  except Exception as ex: \n",
        "    print(f'Exception [{ex}]')\n",
        "if __name__ == \"__main__\":\n",
        "  main()"
      ],
      "execution_count": null,
      "outputs": [
        {
          "output_type": "stream",
          "name": "stdout",
          "text": [
            "             Area name  ... Cumulative lab-confirmed cases\n",
            "0           Hartlepool  ...                          15209\n",
            "1           Hartlepool  ...                          15202\n",
            "2           Hartlepool  ...                          15180\n",
            "3           Hartlepool  ...                          15160\n",
            "4           Hartlepool  ...                          15119\n",
            "...                ...  ...                            ...\n",
            "215982  Merthyr Tydfil  ...                              3\n",
            "215983  Merthyr Tydfil  ...                              3\n",
            "215984  Merthyr Tydfil  ...                              2\n",
            "215985  Merthyr Tydfil  ...                              2\n",
            "215986  Merthyr Tydfil  ...                              2\n",
            "\n",
            "[215987 rows x 6 columns]\n"
          ]
        }
      ]
    },
    {
      "cell_type": "code",
      "metadata": {
        "id": "Nbre-nQjaO9H"
      },
      "source": [
        ""
      ],
      "execution_count": null,
      "outputs": []
    }
  ]
}